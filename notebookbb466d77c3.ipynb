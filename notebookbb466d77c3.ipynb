{
 "cells": [
  {
   "cell_type": "code",
   "execution_count": 1,
   "id": "06a9f2de",
   "metadata": {
    "_cell_guid": "b1076dfc-b9ad-4769-8c92-a6c4dae69d19",
    "_uuid": "8f2839f25d086af736a60e9eeb907d3b93b6e0e5",
    "execution": {
     "iopub.execute_input": "2024-02-29T14:01:50.321661Z",
     "iopub.status.busy": "2024-02-29T14:01:50.320665Z",
     "iopub.status.idle": "2024-02-29T14:01:50.798899Z",
     "shell.execute_reply": "2024-02-29T14:01:50.797479Z"
    },
    "papermill": {
     "duration": 0.483681,
     "end_time": "2024-02-29T14:01:50.800944",
     "exception": false,
     "start_time": "2024-02-29T14:01:50.317263",
     "status": "completed"
    },
    "tags": []
   },
   "outputs": [
    {
     "name": "stdout",
     "output_type": "stream",
     "text": [
      "Image downloaded and saved successfully at downloaded_image.jpg\n"
     ]
    }
   ],
   "source": [
    "import requests\n",
    "from io import BytesIO\n",
    "from PIL import Image\n",
    "\n",
    "def download_and_save_image(url, save_path):\n",
    "    try:\n",
    "        # Send a GET request to the URL\n",
    "        response = requests.get(url)\n",
    "        \n",
    "        # Check if the request was successful (status code 200)\n",
    "        if response.status_code == 200:\n",
    "            # Open the image using PIL (Python Imaging Library)\n",
    "            image = Image.open(BytesIO(response.content))\n",
    "            \n",
    "            # Save the image to the specified path\n",
    "            image.save(save_path)\n",
    "            \n",
    "            print(f\"Image downloaded and saved successfully at {save_path}\")\n",
    "        else:\n",
    "            print(f\"Failed to download image. Status code: {response.status_code}\")\n",
    "    \n",
    "    except Exception as e:\n",
    "        print(f\"An error occurred: {str(e)}\")\n",
    "\n",
    "# Example usage:\n",
    "url = \"https://sugeng.id/wp-content/uploads/2022/02/tema-kutoko-1-400x230.webp\"  # Replace with the URL of the image you want to download\n",
    "save_path = \"downloaded_image.jpg\"  # Replace with the desired local path to save the image\n",
    "\n",
    "download_and_save_image(url, save_path)"
   ]
  },
  {
   "cell_type": "code",
   "execution_count": 2,
   "id": "6e65ef17",
   "metadata": {
    "execution": {
     "iopub.execute_input": "2024-02-29T14:01:50.805614Z",
     "iopub.status.busy": "2024-02-29T14:01:50.805287Z",
     "iopub.status.idle": "2024-02-29T14:01:50.813488Z",
     "shell.execute_reply": "2024-02-29T14:01:50.812549Z"
    },
    "papermill": {
     "duration": 0.013006,
     "end_time": "2024-02-29T14:01:50.815705",
     "exception": false,
     "start_time": "2024-02-29T14:01:50.802699",
     "status": "completed"
    },
    "tags": []
   },
   "outputs": [
    {
     "data": {
      "image/jpeg": "[encoded data removed]",
      "text/plain": [
       "<IPython.core.display.Image object>"
      ]
     },
     "metadata": {},
     "output_type": "display_data"
    }
   ],
   "source": [
    "from IPython.display import Image, display\n",
    "\n",
    "# Specify the path to the downloaded image\n",
    "image_path = \"downloaded_image.jpg\"  # Replace with the actual path\n",
    "\n",
    "# Display the image\n",
    "display(Image(filename=image_path))"
   ]
  }
 ],
 "metadata": {
  "kaggle": {
   "accelerator": "none",
   "dataSources": [],
   "dockerImageVersionId": 30664,
   "isGpuEnabled": false,
   "isInternetEnabled": true,
   "language": "python",
   "sourceType": "notebook"
  },
  "kernelspec": {
   "display_name": "Python 3",
   "language": "python",
   "name": "python3"
  },
  "language_info": {
   "codemirror_mode": {
    "name": "ipython",
    "version": 3
   },
   "file_extension": ".py",
   "mimetype": "text/x-python",
   "name": "python",
   "nbconvert_exporter": "python",
   "pygments_lexer": "ipython3",
   "version": "3.10.13"
  },
  "papermill": {
   "default_parameters": {},
   "duration": 3.692144,
   "end_time": "2024-02-29T14:01:51.135651",
   "environment_variables": {},
   "exception": null,
   "input_path": "__notebook__.ipynb",
   "output_path": "__notebook__.ipynb",
   "parameters": {},
   "start_time": "2024-02-29T14:01:47.443507",
   "version": "2.5.0"
  }
 },
 "nbformat": 4,
 "nbformat_minor": 5
}
