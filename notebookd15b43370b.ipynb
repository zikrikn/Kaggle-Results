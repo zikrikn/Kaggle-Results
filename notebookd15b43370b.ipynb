{
 "cells": [
  {
   "cell_type": "code",
   "execution_count": 1,
   "id": "0ad4658e",
   "metadata": {
    "execution": {
     "iopub.execute_input": "2024-06-14T06:16:35.830175Z",
     "iopub.status.busy": "2024-06-14T06:16:35.829768Z",
     "iopub.status.idle": "2024-06-14T06:16:52.056607Z",
     "shell.execute_reply": "2024-06-14T06:16:52.055247Z"
    },
    "id": "ist8bZfi3hQo",
    "outputId": "3de01186-7ffc-48f8-8d50-08427082271c",
    "papermill": {
     "duration": 16.234262,
     "end_time": "2024-06-14T06:16:52.059263",
     "exception": false,
     "start_time": "2024-06-14T06:16:35.825001",
     "status": "completed"
    },
    "tags": []
   },
   "outputs": [
    {
     "name": "stdout",
     "output_type": "stream",
     "text": [
      "Cloning into 'emotion-recognition-smartwatch'...\r\n",
      "remote: Enumerating objects: 496, done.\u001b[K\r\n",
      "remote: Counting objects: 100% (437/437), done.\u001b[K\r\n",
      "remote: Compressing objects: 100% (262/262), done.\u001b[K\r\n",
      "remote: Total 496 (delta 188), reused 419 (delta 172), pack-reused 59\u001b[K\r\n",
      "Receiving objects: 100% (496/496), 162.30 MiB | 15.29 MiB/s, done.\r\n",
      "Resolving deltas: 100% (188/188), done.\r\n",
      "Updating files: 100% (317/317), done.\r\n"
     ]
    }
   ],
   "source": [
    "!git clone -b zikri https://github.com/TelU-FKI/emotion-recognition-smartwatch.git"
   ]
  },
  {
   "cell_type": "code",
   "execution_count": 2,
   "id": "eceb4b71",
   "metadata": {
    "execution": {
     "iopub.execute_input": "2024-06-14T06:16:52.077177Z",
     "iopub.status.busy": "2024-06-14T06:16:52.076769Z",
     "iopub.status.idle": "2024-06-14T06:16:52.084539Z",
     "shell.execute_reply": "2024-06-14T06:16:52.083317Z"
    },
    "id": "WUWGDCkj3zJd",
    "outputId": "1e5df6ee-5d2a-4aaf-92aa-240462ed9f70",
    "papermill": {
     "duration": 0.019386,
     "end_time": "2024-06-14T06:16:52.086746",
     "exception": false,
     "start_time": "2024-06-14T06:16:52.067360",
     "status": "completed"
    },
    "tags": []
   },
   "outputs": [
    {
     "name": "stdout",
     "output_type": "stream",
     "text": [
      "/kaggle/working/emotion-recognition-smartwatch\n"
     ]
    }
   ],
   "source": [
    "%cd emotion-recognition-smartwatch"
   ]
  },
  {
   "cell_type": "code",
   "execution_count": 3,
   "id": "f656ff68",
   "metadata": {
    "execution": {
     "iopub.execute_input": "2024-06-14T06:16:52.104179Z",
     "iopub.status.busy": "2024-06-14T06:16:52.103790Z",
     "iopub.status.idle": "2024-06-14T06:17:07.142160Z",
     "shell.execute_reply": "2024-06-14T06:17:07.141022Z"
    },
    "id": "Pta7358q308Z",
    "outputId": "774c9163-f254-41bd-a2a0-feba18272995",
    "papermill": {
     "duration": 15.050164,
     "end_time": "2024-06-14T06:17:07.144808",
     "exception": false,
     "start_time": "2024-06-14T06:16:52.094644",
     "status": "completed"
    },
    "tags": []
   },
   "outputs": [
    {
     "name": "stdout",
     "output_type": "stream",
     "text": [
      "Requirement already satisfied: numpy in /opt/conda/lib/python3.10/site-packages (from -r requirements.txt (line 1)) (1.26.4)\r\n",
      "Requirement already satisfied: matplotlib in /opt/conda/lib/python3.10/site-packages (from -r requirements.txt (line 2)) (3.7.5)\r\n",
      "Requirement already satisfied: scipy in /opt/conda/lib/python3.10/site-packages (from -r requirements.txt (line 3)) (1.11.4)\r\n",
      "Collecting permute (from -r requirements.txt (line 4))\r\n",
      "  Downloading permute-0.2-py3-none-any.whl.metadata (2.7 kB)\r\n",
      "Requirement already satisfied: scikit_learn in /opt/conda/lib/python3.10/site-packages (from -r requirements.txt (line 5)) (1.2.2)\r\n",
      "Requirement already satisfied: PyYAML in /opt/conda/lib/python3.10/site-packages (from -r requirements.txt (line 6)) (6.0.1)\r\n",
      "Requirement already satisfied: lightgbm in /opt/conda/lib/python3.10/site-packages (from -r requirements.txt (line 7)) (4.2.0)\r\n",
      "Requirement already satisfied: contourpy>=1.0.1 in /opt/conda/lib/python3.10/site-packages (from matplotlib->-r requirements.txt (line 2)) (1.2.0)\r\n",
      "Requirement already satisfied: cycler>=0.10 in /opt/conda/lib/python3.10/site-packages (from matplotlib->-r requirements.txt (line 2)) (0.12.1)\r\n",
      "Requirement already satisfied: fonttools>=4.22.0 in /opt/conda/lib/python3.10/site-packages (from matplotlib->-r requirements.txt (line 2)) (4.47.0)\r\n",
      "Requirement already satisfied: kiwisolver>=1.0.1 in /opt/conda/lib/python3.10/site-packages (from matplotlib->-r requirements.txt (line 2)) (1.4.5)\r\n",
      "Requirement already satisfied: packaging>=20.0 in /opt/conda/lib/python3.10/site-packages (from matplotlib->-r requirements.txt (line 2)) (21.3)\r\n",
      "Requirement already satisfied: pillow>=6.2.0 in /opt/conda/lib/python3.10/site-packages (from matplotlib->-r requirements.txt (line 2)) (9.5.0)\r\n",
      "Requirement already satisfied: pyparsing>=2.3.1 in /opt/conda/lib/python3.10/site-packages (from matplotlib->-r requirements.txt (line 2)) (3.1.1)\r\n",
      "Requirement already satisfied: python-dateutil>=2.7 in /opt/conda/lib/python3.10/site-packages (from matplotlib->-r requirements.txt (line 2)) (2.8.2)\r\n",
      "Collecting cryptorandom>=0.3 (from permute->-r requirements.txt (line 4))\r\n",
      "  Downloading cryptorandom-0.3-py3-none-any.whl.metadata (2.5 kB)\r\n",
      "Requirement already satisfied: joblib>=1.1.1 in /opt/conda/lib/python3.10/site-packages (from scikit_learn->-r requirements.txt (line 5)) (1.3.2)\r\n",
      "Requirement already satisfied: threadpoolctl>=2.0.0 in /opt/conda/lib/python3.10/site-packages (from scikit_learn->-r requirements.txt (line 5)) (3.2.0)\r\n",
      "Requirement already satisfied: six>=1.5 in /opt/conda/lib/python3.10/site-packages (from python-dateutil>=2.7->matplotlib->-r requirements.txt (line 2)) (1.16.0)\r\n",
      "Downloading permute-0.2-py3-none-any.whl (154 kB)\r\n",
      "\u001b[2K   \u001b[90m━━━━━━━━━━━━━━━━━━━━━━━━━━━━━━━━━━━━━━━━\u001b[0m \u001b[32m154.3/154.3 kB\u001b[0m \u001b[31m2.6 MB/s\u001b[0m eta \u001b[36m0:00:00\u001b[0m\r\n",
      "\u001b[?25hDownloading cryptorandom-0.3-py3-none-any.whl (13 kB)\r\n",
      "Installing collected packages: cryptorandom, permute\r\n",
      "Successfully installed cryptorandom-0.3 permute-0.2\r\n"
     ]
    }
   ],
   "source": [
    "!pip install -r requirements.txt"
   ]
  },
  {
   "cell_type": "code",
   "execution_count": 4,
   "id": "e0b9b7f2",
   "metadata": {
    "execution": {
     "iopub.execute_input": "2024-06-14T06:17:07.164973Z",
     "iopub.status.busy": "2024-06-14T06:17:07.164593Z",
     "iopub.status.idle": "2024-06-14T06:17:08.167353Z",
     "shell.execute_reply": "2024-06-14T06:17:08.165986Z"
    },
    "papermill": {
     "duration": 1.015873,
     "end_time": "2024-06-14T06:17:08.169880",
     "exception": false,
     "start_time": "2024-06-14T06:17:07.154007",
     "status": "completed"
    },
    "tags": []
   },
   "outputs": [
    {
     "name": "stdout",
     "output_type": "stream",
     "text": [
      "LICENSE\t\t\t\t      mu_lift_scores_acc_f13.yaml\r\n",
      "PANAS\t\t\t\t      mu_lift_scores_acc_f14.yaml\r\n",
      "README.md\t\t\t      mu_lift_scores_acc_f15.yaml\r\n",
      "boxplot.py\t\t\t      mu_lift_scores_acc_f16.yaml\r\n",
      "build_input_tensor.py\t\t      mu_lift_scores_holdout.yaml\r\n",
      "catboost_info\t\t\t      mu_lift_scores_neutral.yaml\r\n",
      "count_fidelity_models.py\t      mu_louo_lift_scores_loov_user.yaml\r\n",
      "deep_learning_data\t\t      mw_feature_import_acc_important.yaml\r\n",
      "error_plot.py\t\t\t      mw_lift_scores_acc.yaml\r\n",
      "extract_windows.py\t\t      mw_lift_scores_acc10.yaml\r\n",
      "feature_importance_plot.py\t      mw_lift_scores_acc2.yaml\r\n",
      "feature_list\t\t\t      mw_lift_scores_acc3.yaml\r\n",
      "features\t\t\t      mw_lift_scores_acc4.yaml\r\n",
      "fig2.png\t\t\t      mw_lift_scores_acc6.yaml\r\n",
      "fig4.png\t\t\t      mw_lift_scores_acc8.yaml\r\n",
      "get_feature_importances.py\t      mw_lift_scores_acc_f12.yaml\r\n",
      "get_walking_data.py\t\t      mw_lift_scores_acc_f13.yaml\r\n",
      "lab.py\t\t\t\t      mw_lift_scores_acc_f14.yaml\r\n",
      "lap..ipynb\t\t\t      mw_lift_scores_acc_f15.yaml\r\n",
      "lift_holdout_emotion.py\t\t      mw_lift_scores_acc_f16.yaml\r\n",
      "lift_leave_one_user_out.py\t      mw_lift_scores_acc_f17.yaml\r\n",
      "mo_feature_import_acc_important.yaml  mw_lift_scores_holdout.yaml\r\n",
      "mo_lift_scores_acc.yaml\t\t      mw_lift_scores_neutral.yaml\r\n",
      "mo_lift_scores_acc10.yaml\t      mw_louo_lift_scores_loov_user.yaml\r\n",
      "mo_lift_scores_acc2.yaml\t      output.png\r\n",
      "mo_lift_scores_acc3.yaml\t      output2.png\r\n",
      "mo_lift_scores_acc4.yaml\t      output3.png\r\n",
      "mo_lift_scores_acc6.yaml\t      permute_test.py\r\n",
      "mo_lift_scores_acc8.yaml\t      permute_test_RNN.py\r\n",
      "mo_lift_scores_acc_f12.yaml\t      raw_data\r\n",
      "mo_lift_scores_acc_f13.yaml\t      replicate.sh\r\n",
      "mo_lift_scores_acc_f14.yaml\t      requirements.txt\r\n",
      "mo_lift_scores_acc_f15.yaml\t      user_lift.py\r\n",
      "mo_lift_scores_acc_f16.yaml\t      user_lift_GridCV.py\r\n",
      "mo_lift_scores_holdout.yaml\t      user_lift_Ori.py\r\n",
      "mo_lift_scores_neutral.yaml\t      user_lift_Ori2.py\r\n",
      "mo_louo_lift_scores_loov_user.yaml    user_lift_Ori3.py\r\n",
      "mu_feature_import_acc_important.yaml  user_lift_Ori4.py\r\n",
      "mu_lift_scores_acc.yaml\t\t      user_lift_Ori5.py\r\n",
      "mu_lift_scores_acc10.yaml\t      user_lift_Ori6.py\r\n",
      "mu_lift_scores_acc2.yaml\t      user_lift_Ori7.py\r\n",
      "mu_lift_scores_acc3.yaml\t      user_lift_Ori8.py\r\n",
      "mu_lift_scores_acc4.yaml\t      user_lift_Random.py\r\n",
      "mu_lift_scores_acc6.yaml\t      user_study_encoding.csv\r\n",
      "mu_lift_scores_acc8.yaml\t      walking_data\r\n",
      "mu_lift_scores_acc_f12.yaml\r\n"
     ]
    }
   ],
   "source": [
    "!ls"
   ]
  },
  {
   "cell_type": "code",
   "execution_count": 5,
   "id": "f3be9365",
   "metadata": {
    "execution": {
     "iopub.execute_input": "2024-06-14T06:17:08.190070Z",
     "iopub.status.busy": "2024-06-14T06:17:08.189686Z",
     "iopub.status.idle": "2024-06-14T12:45:36.498590Z",
     "shell.execute_reply": "2024-06-14T12:45:36.496824Z"
    },
    "id": "eT_yCNuh372D",
    "outputId": "34251ca0-e763-4122-a555-ac022f863cbc",
    "papermill": {
     "duration": 23308.322573,
     "end_time": "2024-06-14T12:45:36.501693",
     "exception": false,
     "start_time": "2024-06-14T06:17:08.179120",
     "status": "completed"
    },
    "tags": []
   },
   "outputs": [
    {
     "name": "stdout",
     "output_type": "stream",
     "text": [
      "condition mu\r\n",
      "classifying: features/features_mu_ew12_accdata_31_1_159-1535.csv\r\n",
      "(1157, 108)\r\n",
      "classifying: features/features_mu_ew17_accdata_3_2_1239-135.csv\r\n",
      "(1256, 108)\r\n",
      "classifying: features/features_mu_ew23_accdata_9_2_1710-1736.csv\r\n",
      "(1099, 108)\r\n",
      "classifying: features/features_mu_ew24_accdata_10_2_117-1135.csv\r\n",
      "(1183, 108)\r\n",
      "classifying: features/features_mu_ew29_accdata_15_2_1724-1751.csv\r\n",
      "(1255, 108)\r\n",
      "classifying: features/features_mu_ew30_accdata_15_2_188-1833.csv\r\n",
      "(1300, 108)\r\n",
      "classifying: features/features_mu_ew35_accdata_17_2_1817-1841.csv\r\n",
      "(1171, 108)\r\n",
      "classifying: features/features_mu_ew36_accdata_20_2_115-1130.csv\r\n",
      "(1135, 108)\r\n",
      "classifying: features/features_mu_ew41_accdata_22_2_119-1133.csv\r\n",
      "(1198, 108)\r\n",
      "classifying: features/features_mu_ew42_accdata_22_2_165-1632.csv\r\n",
      "(1307, 108)\r\n",
      "classifying: features/features_mu_ew47_accdata_24_2_1120-1150.csv\r\n",
      "(1226, 108)\r\n",
      "classifying: features/features_mu_ew48_accdata_27_2_1414-1438.csv\r\n",
      "(1103, 108)\r\n",
      "classifying: features/features_mu_ew5_accdata_19_12_1615-1643.csv\r\n",
      "(1344, 108)\r\n",
      "classifying: features/features_mu_ew6_accdata_25_1_1912-1939.csv\r\n",
      "(1234, 108)\r\n",
      "condition mw\r\n",
      "classifying: features/features_mw_ew13_accdata_31_1_177-1722.csv\r\n",
      "(1253, 108)\r\n",
      "classifying: features/features_mw_ew14_accdata_1_2_1112-1128.csv\r\n",
      "(1357, 108)\r\n",
      "classifying: features/features_mw_ew19_accdata_7_2_1110-1125.csv\r\n",
      "(1179, 108)\r\n",
      "classifying: features/features_mw_ew20_accdata_7_2_1713-1732.csv\r\n",
      "(1369, 108)\r\n",
      "classifying: features/features_mw_ew25_accdata_10_2_178-1722.csv\r\n",
      "(1140, 108)\r\n",
      "classifying: features/features_mw_ew26_accdata_13_2_1113-1127.csv\r\n",
      "(1105, 108)\r\n",
      "classifying: features/features_mw_ew31_accdata_16_2_1515-1531.csv\r\n",
      "(1250, 108)\r\n",
      "classifying: features/features_mw_ew37_accdata_20_2_165-1619.csv\r\n",
      "(1170, 108)\r\n",
      "classifying: features/features_mw_ew38_accdata_20_2_1726-1741.csv\r\n",
      "(1340, 108)\r\n",
      "classifying: features/features_mw_ew43_accdata_22_2_1711-1725.csv\r\n",
      "(1232, 108)\r\n",
      "classifying: features/features_mw_ew44_accdata_23_2_1123-1139.csv\r\n",
      "(1213, 108)\r\n",
      "classifying: features/features_mw_ew49_accdata_28_2_1130-1149.csv\r\n",
      "(1256, 108)\r\n",
      "classifying: features/features_mw_ew7_accdata_26_1_015-032.csv\r\n",
      "(1321, 108)\r\n",
      "classifying: features/features_mw_ew8_accdata_27_1_1319-1336.csv\r\n",
      "(1441, 108)\r\n",
      "condition mo\r\n",
      "classifying: features/features_mo_ew10_accdata_30_1_108-1033.csv\r\n",
      "(1127, 108)\r\n",
      "classifying: features/features_mo_ew15_accdata_1_2_1422-1448.csv\r\n",
      "(1297, 108)\r\n",
      "classifying: features/features_mo_ew16_accdata_3_2_1018-1041.csv\r\n",
      "(1053, 108)\r\n",
      "classifying: features/features_mo_ew22_accdata_9_2_118-1132.csv\r\n",
      "(1043, 108)\r\n",
      "classifying: features/features_mo_ew27_accdata_14_2_1812-1841.csv\r\n",
      "(1658, 108)\r\n",
      "classifying: features/features_mo_ew28_accdata_15_2_1511-1539.csv\r\n",
      "(1261, 108)\r\n",
      "classifying: features/features_mo_ew2_accdata_21_10_139-1336.csv\r\n",
      "(1186, 108)\r\n",
      "classifying: features/features_mo_ew33_accdata_16_2_1815-1838.csv\r\n",
      "(1246, 108)\r\n",
      "classifying: features/features_mo_ew34_accdata_17_2_1130-1153.csv\r\n",
      "(1228, 108)\r\n",
      "classifying: features/features_mo_ew39_accdata_21_2_166-1631.csv\r\n",
      "(1151, 108)\r\n",
      "classifying: features/features_mo_ew3_accdata_16_12_1419-1449.csv\r\n",
      "(1182, 108)\r\n",
      "classifying: features/features_mo_ew40_accdata_21_2_1733-181.csv\r\n",
      "(1231, 108)\r\n",
      "classifying: features/features_mo_ew45_accdata_23_2_149-1431.csv\r\n",
      "(1194, 108)\r\n",
      "classifying: features/features_mo_ew4_accdata_19_12_1122-1146.csv\r\n",
      "(983, 108)\r\n",
      "classifying: features/features_mo_ew50_accdata_28_2_126-1235.csv\r\n",
      "(1142, 108)\r\n",
      "classifying: features/features_mo_ew9_accdata_27_1_1611-1643.csv\r\n",
      "(1304, 108)\r\n"
     ]
    }
   ],
   "source": [
    "!python user_lift_Ori.py -mo features/features_mo_ew* -mu features/features_mu_ew* -mw features/features_mw_ew* -o acc_f1_new"
   ]
  },
  {
   "cell_type": "code",
   "execution_count": 6,
   "id": "fa3cbc5c",
   "metadata": {
    "execution": {
     "iopub.execute_input": "2024-06-14T12:45:36.532321Z",
     "iopub.status.busy": "2024-06-14T12:45:36.531887Z",
     "iopub.status.idle": "2024-06-14T12:45:36.537822Z",
     "shell.execute_reply": "2024-06-14T12:45:36.536805Z"
    },
    "papermill": {
     "duration": 0.023438,
     "end_time": "2024-06-14T12:45:36.539865",
     "exception": false,
     "start_time": "2024-06-14T12:45:36.516427",
     "status": "completed"
    },
    "tags": []
   },
   "outputs": [],
   "source": [
    "#!python permute_test_RNN.py -mw mw_lift_scores_acc_f16.yaml"
   ]
  },
  {
   "cell_type": "code",
   "execution_count": 7,
   "id": "c336fced",
   "metadata": {
    "execution": {
     "iopub.execute_input": "2024-06-14T12:45:36.568264Z",
     "iopub.status.busy": "2024-06-14T12:45:36.567378Z",
     "iopub.status.idle": "2024-06-14T12:45:36.572170Z",
     "shell.execute_reply": "2024-06-14T12:45:36.571066Z"
    },
    "papermill": {
     "duration": 0.02153,
     "end_time": "2024-06-14T12:45:36.574416",
     "exception": false,
     "start_time": "2024-06-14T12:45:36.552886",
     "status": "completed"
    },
    "tags": []
   },
   "outputs": [],
   "source": [
    "#pip install tensorflow[and-cuda]"
   ]
  }
 ],
 "metadata": {
  "colab": {
   "provenance": []
  },
  "kaggle": {
   "accelerator": "none",
   "dataSources": [],
   "dockerImageVersionId": 30666,
   "isGpuEnabled": false,
   "isInternetEnabled": true,
   "language": "python",
   "sourceType": "notebook"
  },
  "kernelspec": {
   "display_name": "Python 3",
   "language": "python",
   "name": "python3"
  },
  "language_info": {
   "codemirror_mode": {
    "name": "ipython",
    "version": 3
   },
   "file_extension": ".py",
   "mimetype": "text/x-python",
   "name": "python",
   "nbconvert_exporter": "python",
   "pygments_lexer": "ipython3",
   "version": "3.10.13"
  },
  "papermill": {
   "default_parameters": {},
   "duration": 23344.05276,
   "end_time": "2024-06-14T12:45:37.046603",
   "environment_variables": {},
   "exception": null,
   "input_path": "__notebook__.ipynb",
   "output_path": "__notebook__.ipynb",
   "parameters": {},
   "start_time": "2024-06-14T06:16:32.993843",
   "version": "2.5.0"
  }
 },
 "nbformat": 4,
 "nbformat_minor": 5
}
